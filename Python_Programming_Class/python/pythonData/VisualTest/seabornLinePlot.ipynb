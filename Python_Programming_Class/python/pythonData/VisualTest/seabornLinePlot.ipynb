{
 "cells": [
  {
   "cell_type": "code",
   "execution_count": null,
   "metadata": {},
   "outputs": [],
   "source": [
    "import numpy as np\n",
    "import pandas as pd\n",
    "import matplotlib,pyplot as plt\n",
    "import seaborn as sns\n",
    "\n",
    "fmro = sns.load_dataset(\"fmri\")\n",
    "sns.set_style(\"whitegrid\")\n",
    "sns.lineplot(x=\"timepoint\", y=\"signal\", data=fmri)"
   ]
  }
 ],
 "metadata": {
  "kernelspec": {
   "display_name": "my_project",
   "language": "python",
   "name": "python3"
  },
  "language_info": {
   "name": "python",
   "version": "3.10.14"
  }
 },
 "nbformat": 4,
 "nbformat_minor": 2
}
