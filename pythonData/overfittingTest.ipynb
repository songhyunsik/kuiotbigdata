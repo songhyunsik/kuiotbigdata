{
  "nbformat": 4,
  "nbformat_minor": 0,
  "metadata": {
    "colab": {
      "provenance": [],
      "authorship_tag": "ABX9TyOT30WILIUZVMDvJPVHWJtK",
      "include_colab_link": true
    },
    "kernelspec": {
      "name": "python3",
      "display_name": "Python 3"
    },
    "language_info": {
      "name": "python"
    }
  },
  "cells": [
    {
      "cell_type": "markdown",
      "metadata": {
        "id": "view-in-github",
        "colab_type": "text"
      },
      "source": [
        "<a href=\"https://colab.research.google.com/github/songhyunsik/kuiotbigdata/blob/main/pythonData/overfittingTest.ipynb\" target=\"_parent\"><img src=\"https://colab.research.google.com/assets/colab-badge.svg\" alt=\"Open In Colab\"/></a>"
      ]
    },
    {
      "cell_type": "code",
      "execution_count": 1,
      "metadata": {
        "id": "J-U8x4fEsZ_B"
      },
      "outputs": [],
      "source": [
        "from collections import defaultdict\n",
        "\n",
        "import matplotlib.pyplot as plt\n",
        "import numpy as np\n",
        "import pandas as pd\n",
        "from sklearn.ensemble import RandomForestClassifier\n",
        "from sklearn.metrics import accuracy_score\n",
        "from sklearn.model_selection import train_test_split\n",
        "from sklearn.preprocessing import StandardScaler"
      ]
    },
    {
      "cell_type": "code",
      "source": [
        "folder = \"/content/\"\n",
        "loan_data = pd.read_csv(folder + \"loan_data.csv.gz\")\n",
        "print(loan_data.head())\n",
        "print(loan_data.info())"
      ],
      "metadata": {
        "colab": {
          "base_uri": "https://localhost:8080/"
        },
        "id": "6qoANLA_sk_c",
        "outputId": "c82bd56a-818d-4722-938c-2d77ba60a26c"
      },
      "execution_count": 2,
      "outputs": [
        {
          "output_type": "stream",
          "name": "stdout",
          "text": [
            "   Unnamed: 0       status  loan_amnt       term  annual_inc    dti  \\\n",
            "0           1  Charged Off       2500  60 months       30000   1.00   \n",
            "1           2  Charged Off       5600  60 months       40000   5.55   \n",
            "2           3  Charged Off       5375  60 months       15000  18.08   \n",
            "3           4  Charged Off       9000  36 months       30000  10.08   \n",
            "4           5  Charged Off      10000  36 months      100000   7.06   \n",
            "\n",
            "   payment_inc_ratio  revol_bal  revol_util             purpose  ...  \\\n",
            "0            2.39320       1687         9.4                 car  ...   \n",
            "1            4.57170       5210        32.6      small_business  ...   \n",
            "2            9.71600       9279        36.5               other  ...   \n",
            "3           12.21520      10452        91.7  debt_consolidation  ...   \n",
            "4            3.90888      11997        55.5               other  ...   \n",
            "\n",
            "  delinq_2yrs_zero  pub_rec_zero  open_acc  grade  outcome emp_length  \\\n",
            "0                1             1         3    4.8  default          1   \n",
            "1                1             1        11    1.4  default          5   \n",
            "2                1             1         2    6.0  default          1   \n",
            "3                1             1         4    4.2  default          1   \n",
            "4                1             1        14    5.4  default          4   \n",
            "\n",
            "             purpose_ home_   emp_len_ borrower_score  \n",
            "0      major_purchase  RENT   > 1 Year           0.65  \n",
            "1      small_business   OWN   > 1 Year           0.80  \n",
            "2               other  RENT   > 1 Year           0.60  \n",
            "3  debt_consolidation  RENT   > 1 Year           0.50  \n",
            "4               other  RENT   > 1 Year           0.55  \n",
            "\n",
            "[5 rows x 21 columns]\n",
            "<class 'pandas.core.frame.DataFrame'>\n",
            "RangeIndex: 45342 entries, 0 to 45341\n",
            "Data columns (total 21 columns):\n",
            " #   Column             Non-Null Count  Dtype  \n",
            "---  ------             --------------  -----  \n",
            " 0   Unnamed: 0         45342 non-null  int64  \n",
            " 1   status             45342 non-null  object \n",
            " 2   loan_amnt          45342 non-null  int64  \n",
            " 3   term               45342 non-null  object \n",
            " 4   annual_inc         45342 non-null  int64  \n",
            " 5   dti                45342 non-null  float64\n",
            " 6   payment_inc_ratio  45342 non-null  float64\n",
            " 7   revol_bal          45342 non-null  int64  \n",
            " 8   revol_util         45342 non-null  float64\n",
            " 9   purpose            45342 non-null  object \n",
            " 10  home_ownership     45342 non-null  object \n",
            " 11  delinq_2yrs_zero   45342 non-null  int64  \n",
            " 12  pub_rec_zero       45342 non-null  int64  \n",
            " 13  open_acc           45342 non-null  int64  \n",
            " 14  grade              45342 non-null  float64\n",
            " 15  outcome            45342 non-null  object \n",
            " 16  emp_length         45342 non-null  int64  \n",
            " 17  purpose_           45342 non-null  object \n",
            " 18  home_              45342 non-null  object \n",
            " 19  emp_len_           45342 non-null  object \n",
            " 20  borrower_score     45342 non-null  float64\n",
            "dtypes: float64(5), int64(8), object(8)\n",
            "memory usage: 7.3+ MB\n",
            "None\n"
          ]
        }
      ]
    },
    {
      "cell_type": "code",
      "source": [
        "predictors = [\"loan_amnt\", \"term\", \"annual_inc\", \"dti\", \"payment_inc_ratio\", \"revol_bal\", \"revol_util\", \"purpose\", \"delinq_2yrs_zero\", \"pub_rec_zero\", \"open_acc\", \"grade\", \"emp_length\", \"purpose_\", \"home_\", \"emp_len_\", \"borrower_score\"]\n",
        "outcome = 'outcome'\n",
        "\n",
        "X = pd.get_dummies(loan_data[predictors], drop_first=True, dtype=int)\n",
        "y = pd.Series([1 if out =='default' else 0 for out in loan_data[outcome]])\n",
        "\n",
        "train_X, test_X, train_y, test_y = train_test_split(X, y, test_size=10000)\n"
      ],
      "metadata": {
        "id": "gEOirRVRsqyK"
      },
      "execution_count": 3,
      "outputs": []
    },
    {
      "cell_type": "code",
      "source": [
        "from xgboost import XGBClassifier\n",
        "\n",
        "xgb_default = XGBClassifier(objective='binary:logistic', n_estimators=250,\n",
        "                            max_depth=6, reg_lambda=0, learning_rate=0.3, subsample=1)\n",
        "xgb_default.fit(train_X, train_y)\n",
        "pred_default = xgb_default.predict(test_X)\n",
        "error_default = abs(test_y - pred_default) > 0.5\n",
        "print(f\"error_default mean : {np.mean(error_default)}\")\n",
        "print(f\"acc : {accuracy_score(test_y, pred_default)}\")"
      ],
      "metadata": {
        "colab": {
          "base_uri": "https://localhost:8080/"
        },
        "id": "u0rMQp_hssNs",
        "outputId": "a79aa927-9fc3-40e5-c38e-fa04116f0b91"
      },
      "execution_count": 4,
      "outputs": [
        {
          "output_type": "stream",
          "name": "stdout",
          "text": [
            "error_default mean : 0.3601\n",
            "acc : 0.6399\n"
          ]
        }
      ]
    }
  ]
}